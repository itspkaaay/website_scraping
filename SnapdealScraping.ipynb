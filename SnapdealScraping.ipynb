{
 "cells": [
  {
   "cell_type": "code",
   "execution_count": 124,
   "metadata": {},
   "outputs": [],
   "source": [
    "import requests\n",
    "from urllib.request import urlopen\n",
    "from bs4 import BeautifulSoup"
   ]
  },
  {
   "cell_type": "code",
   "execution_count": 125,
   "metadata": {},
   "outputs": [
    {
     "name": "stdout",
     "output_type": "stream",
     "text": [
      "book\n",
      "https://www.snapdeal.com/search?keyword=book\n"
     ]
    }
   ],
   "source": [
    "snapdeal_url='https://www.snapdeal.com/search?keyword='\n",
    "item= input()\n",
    "snapdeal_url+=item\n",
    "print(snapdeal_url)"
   ]
  },
  {
   "cell_type": "code",
   "execution_count": 126,
   "metadata": {},
   "outputs": [],
   "source": [
    "item_requested= requests.get(snapdeal_url)\n",
    "#item_re quested.content     to display the html"
   ]
  },
  {
   "cell_type": "code",
   "execution_count": 127,
   "metadata": {},
   "outputs": [],
   "source": [
    "soup= BeautifulSoup(item_requested.content)\n",
    "# soup contains the parsed html object from which scraping is to be done"
   ]
  },
  {
   "cell_type": "code",
   "execution_count": 128,
   "metadata": {},
   "outputs": [
    {
     "name": "stdout",
     "output_type": "stream",
     "text": [
      "19\n",
      "19\n"
     ]
    }
   ],
   "source": [
    "images_list= soup.findAll('div',{'class':'product-tuple-image'})\n",
    "print(len(images_list))\n",
    "description_list=soup.findAll('div',{'class':'product-tuple-description'})\n",
    "print(len(description_list))"
   ]
  },
  {
   "cell_type": "code",
   "execution_count": 129,
   "metadata": {},
   "outputs": [],
   "source": [
    "images_list=images_list[:5]\n",
    "description_list=description_list[:5]\n",
    "names_arr=[]"
   ]
  },
  {
   "cell_type": "code",
   "execution_count": 130,
   "metadata": {},
   "outputs": [
    {
     "name": "stdout",
     "output_type": "stream",
     "text": [
      "['Astrology_and', 'Deadly_Embrace', 'Kafka_on', 'Dynamic_Memory', 'Retail_Management']\n"
     ]
    }
   ],
   "source": [
    "#Creating names for the files to be saved from the desciption tag\n",
    "for d in description_list:\n",
    "    name='_'.join(d.p['title'].split(' ')[:2])\n",
    "    names_arr.append(name)\n",
    "\n",
    "print(names_arr)\n",
    "    \n",
    "    "
   ]
  },
  {
   "cell_type": "code",
   "execution_count": 131,
   "metadata": {},
   "outputs": [
    {
     "data": {
      "text/plain": [
       "<div class=\"product-tuple-image\">\n",
       "<a class=\"dp-widget-link\" data-position=\"0;37702\" href=\"https://www.snapdeal.com/product/astrology-and-wealth-english-pb/648384575480\" pogid=\"648384575480\" target=\"_blank\">\n",
       "<div class=\"bg-image hidden\"></div>\n",
       "<picture class=\"picture-elem\">\n",
       "<source class=\"product-image\" media=\"(min-width: 1430px)\" srcset=\"https://n2.sdlcdn.com/imgs/b/2/q/large/Astrology-and-Wealth-English-PB-SDL390346747-1-51709.jpg\" title=\"Astrology and Wealth English (PB)\">\n",
       "<img class=\"product-image\" src=\"https://n2.sdlcdn.com/imgs/b/2/q/230X258_sharpened/Astrology-and-Wealth-English-PB-SDL390346747-1-51709.jpg\" title=\"Astrology and Wealth English (PB)\"/>\n",
       "</source></picture>\n",
       "<input class=\"compareImg\" type=\"hidden\" value=\"https://n2.sdlcdn.com/imgs/b/2/q/64x75/Astrology-and-Wealth-English-PB-SDL390346747-1-51709.jpg\"/>\n",
       "</a>\n",
       "<div class=\"clearfix row-disc\">\n",
       "<div cartid=\"\" class=\"center quick-view-bar btn btn-theme-secondary\" pogid=\"648384575480\" supc=\"SDL390346747\">\n",
       "\t\t\t\t\tQuick View</div>\n",
       "</div>\n",
       "</div>"
      ]
     },
     "execution_count": 131,
     "metadata": {},
     "output_type": "execute_result"
    }
   ],
   "source": [
    "obj=images_list[0]\n",
    "obj"
   ]
  },
  {
   "cell_type": "code",
   "execution_count": 132,
   "metadata": {},
   "outputs": [],
   "source": [
    "import os.path"
   ]
  },
  {
   "cell_type": "code",
   "execution_count": 133,
   "metadata": {},
   "outputs": [
    {
     "name": "stdout",
     "output_type": "stream",
     "text": [
      "Astrology_and.jpg\n"
     ]
    }
   ],
   "source": [
    "\n",
    "url_img=obj.img['src']\n",
    "filename=names_arr[0]+'.jpg'\n",
    "print(filename)\n",
    "with open(os.path.join(os.path.abspath('/Users/pk/Desktop/Python for DS course/snapdealscraping'),filename),'wb') as file:\n",
    "    img=urlopen(url_img)\n",
    "    file.write(img.read())"
   ]
  },
  {
   "cell_type": "code",
   "execution_count": 134,
   "metadata": {},
   "outputs": [
    {
     "name": "stdout",
     "output_type": "stream",
     "text": [
      "0   <div class=\"product-tuple-image\">\n",
      "<a class=\"dp-widget-link\" data-position=\"0;37702\" href=\"https://www.snapdeal.com/product/astrology-and-wealth-english-pb/648384575480\" pogid=\"648384575480\" target=\"_blank\">\n",
      "<div class=\"bg-image hidden\"></div>\n",
      "<picture class=\"picture-elem\">\n",
      "<source class=\"product-image\" media=\"(min-width: 1430px)\" srcset=\"https://n2.sdlcdn.com/imgs/b/2/q/large/Astrology-and-Wealth-English-PB-SDL390346747-1-51709.jpg\" title=\"Astrology and Wealth English (PB)\">\n",
      "<img class=\"product-image\" src=\"https://n2.sdlcdn.com/imgs/b/2/q/230X258_sharpened/Astrology-and-Wealth-English-PB-SDL390346747-1-51709.jpg\" title=\"Astrology and Wealth English (PB)\"/>\n",
      "</source></picture>\n",
      "<input class=\"compareImg\" type=\"hidden\" value=\"https://n2.sdlcdn.com/imgs/b/2/q/64x75/Astrology-and-Wealth-English-PB-SDL390346747-1-51709.jpg\"/>\n",
      "</a>\n",
      "<div class=\"clearfix row-disc\">\n",
      "<div cartid=\"\" class=\"center quick-view-bar btn btn-theme-secondary\" pogid=\"648384575480\" supc=\"SDL390346747\">\n",
      "\t\t\t\t\tQuick View</div>\n",
      "</div>\n",
      "</div>\n",
      "1   <div class=\"product-tuple-image\">\n",
      "<a class=\"dp-widget-link\" data-position=\"0;37702\" href=\"https://www.snapdeal.com/product/deadly-embrace/648201250911\" pogid=\"648201250911\" target=\"_blank\">\n",
      "<div class=\"bg-image hidden\"></div>\n",
      "<picture class=\"picture-elem\">\n",
      "<source class=\"product-image\" media=\"(min-width: 1430px)\" srcset=\"https://n1.sdlcdn.com/imgs/a/5/k/large/Deadly-Embrace-SDL214524901-1-472df.jpg\" title=\"Deadly Embrace\">\n",
      "<img class=\"product-image\" src=\"https://n1.sdlcdn.com/imgs/a/5/k/230X258_sharpened/Deadly-Embrace-SDL214524901-1-472df.jpg\" title=\"Deadly Embrace\"/>\n",
      "</source></picture>\n",
      "<input class=\"compareImg\" type=\"hidden\" value=\"https://n1.sdlcdn.com/imgs/a/5/k/64x75/Deadly-Embrace-SDL214524901-1-472df.jpg\"/>\n",
      "</a>\n",
      "<div class=\"clearfix row-disc\">\n",
      "<div cartid=\"\" class=\"center quick-view-bar btn btn-theme-secondary\" pogid=\"648201250911\" supc=\"SDL214524901\">\n",
      "\t\t\t\t\tQuick View</div>\n",
      "</div>\n",
      "</div>\n",
      "2   <div class=\"product-tuple-image\">\n",
      "<a class=\"dp-widget-link\" data-position=\"0;37702\" href=\"https://www.snapdeal.com/product/kafka-on-the-shore/670063789163\" pogid=\"670063789163\" target=\"_blank\">\n",
      "<div class=\"bg-image hidden\"></div>\n",
      "<picture class=\"picture-elem\">\n",
      "<source class=\"product-image\" media=\"(min-width: 1430px)\" srcset=\"https://n4.sdlcdn.com/imgs/b/m/x/large/Kafka-on-the-Shore-SDL088845203-1-d03a3.jpg\" title=\"Kafka on the Shore\">\n",
      "<img class=\"product-image\" src=\"https://n4.sdlcdn.com/imgs/b/m/x/230X258_sharpened/Kafka-on-the-Shore-SDL088845203-1-d03a3.jpg\" title=\"Kafka on the Shore\"/>\n",
      "</source></picture>\n",
      "<input class=\"compareImg\" type=\"hidden\" value=\"https://n4.sdlcdn.com/imgs/b/m/x/64x75/Kafka-on-the-Shore-SDL088845203-1-d03a3.jpg\"/>\n",
      "</a>\n",
      "<div class=\"clearfix row-disc\">\n",
      "<div cartid=\"\" class=\"center quick-view-bar btn btn-theme-secondary\" pogid=\"670063789163\" supc=\"SDL088845203\">\n",
      "\t\t\t\t\tQuick View</div>\n",
      "</div>\n",
      "</div>\n",
      "3   <div class=\"product-tuple-image\">\n",
      "<a class=\"dp-widget-link\" data-position=\"0;37702\" href=\"https://www.snapdeal.com/product/dynamic-memory-internet-email-malayalam/657682533152\" pogid=\"657682533152\" target=\"_blank\">\n",
      "<div class=\"bg-image hidden\"></div>\n",
      "<picture class=\"picture-elem\">\n",
      "<source class=\"product-image\" media=\"(min-width: 1430px)\" srcset=\"https://n4.sdlcdn.com/imgs/b/f/i/large/Dynamic-Memory-Internet-Email-Malayalam-SDL077226351-1-6d9c6.jpg\" title=\"Dynamic Memory Internet &amp; Email Malayalam\">\n",
      "<img class=\"product-image\" src=\"https://n4.sdlcdn.com/imgs/b/f/i/230X258_sharpened/Dynamic-Memory-Internet-Email-Malayalam-SDL077226351-1-6d9c6.jpg\" title=\"Dynamic Memory Internet &amp; Email Malayalam\"/>\n",
      "</source></picture>\n",
      "<input class=\"compareImg\" type=\"hidden\" value=\"https://n4.sdlcdn.com/imgs/b/f/i/64x75/Dynamic-Memory-Internet-Email-Malayalam-SDL077226351-1-6d9c6.jpg\"/>\n",
      "</a>\n",
      "<div class=\"clearfix row-disc\">\n",
      "<div cartid=\"\" class=\"center quick-view-bar btn btn-theme-secondary\" pogid=\"657682533152\" supc=\"SDL077226351\">\n",
      "\t\t\t\t\tQuick View</div>\n",
      "</div>\n",
      "</div>\n",
      "4   <div class=\"product-tuple-image\">\n",
      "<a class=\"dp-widget-link\" data-position=\"4;37702\" href=\"https://www.snapdeal.com/product/retail-management/684302150078\" pogid=\"684302150078\" target=\"_blank\">\n",
      "<div class=\"bg-image hidden\"></div>\n",
      "<picture class=\"picture-elem\">\n",
      "<source class=\"product-image\" media=\"(min-width: 1430px)\" srcset=\"https://n2.sdlcdn.com/imgs/b/5/w/large/Retail-Management-SDL475505406-1-97531.jpg\" title=\"Retail Management\">\n",
      "<img class=\"product-image lazy-load\" data-src=\"https://n2.sdlcdn.com/imgs/b/5/w/230X258_sharpened/Retail-Management-SDL475505406-1-97531.jpg\" title=\"Retail Management\"/>\n",
      "</source></picture>\n",
      "<input class=\"compareImg\" type=\"hidden\" value=\"https://n2.sdlcdn.com/imgs/b/5/w/64x75/Retail-Management-SDL475505406-1-97531.jpg\"/>\n",
      "</a>\n",
      "<div class=\"clearfix row-disc\">\n",
      "<div cartid=\"\" class=\"center quick-view-bar btn btn-theme-secondary\" pogid=\"684302150078\" supc=\"SDL475505406\">\n",
      "\t\t\t\t\tQuick View</div>\n",
      "</div>\n",
      "</div>\n"
     ]
    }
   ],
   "source": [
    "for ind,img in enumerate(images_list):\n",
    "    print(ind,\" \",img)"
   ]
  },
  {
   "cell_type": "code",
   "execution_count": 135,
   "metadata": {},
   "outputs": [
    {
     "name": "stdout",
     "output_type": "stream",
     "text": [
      "Astrology_and.jpg\n",
      "Deadly_Embrace.jpg\n",
      "Kafka_on.jpg\n",
      "Dynamic_Memory.jpg\n",
      "Retail_Management.jpg\n"
     ]
    }
   ],
   "source": [
    "for ind,img in enumerate(images_list):\n",
    "    obj=images_list[ind]\n",
    "    if (ind==4):\n",
    "        url_img=obj.img['data-src']\n",
    "    else:\n",
    "        url_img=obj.img['src']\n",
    "    filename=names_arr[ind]+'.jpg'\n",
    "    print(filename)\n",
    "    with open(os.path.join(os.path.abspath('/Users/pk/Desktop/Python for DS course/snapdealscraping'),filename),'wb') as file:\n",
    "        img=urlopen(url_img)\n",
    "        file.write(img.read())"
   ]
  },
  {
   "cell_type": "code",
   "execution_count": null,
   "metadata": {},
   "outputs": [],
   "source": []
  }
 ],
 "metadata": {
  "kernelspec": {
   "display_name": "Python 3",
   "language": "python",
   "name": "python3"
  },
  "language_info": {
   "codemirror_mode": {
    "name": "ipython",
    "version": 3
   },
   "file_extension": ".py",
   "mimetype": "text/x-python",
   "name": "python",
   "nbconvert_exporter": "python",
   "pygments_lexer": "ipython3",
   "version": "3.7.6"
  }
 },
 "nbformat": 4,
 "nbformat_minor": 4
}
